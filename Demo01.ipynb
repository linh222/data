{
  "nbformat": 4,
  "nbformat_minor": 0,
  "metadata": {
    "colab": {
      "name": "Demo01.ipynb",
      "provenance": [],
      "collapsed_sections": []
    },
    "kernelspec": {
      "name": "python3",
      "display_name": "Python 3"
    },
    "accelerator": "GPU"
  },
  "cells": [
    {
      "cell_type": "markdown",
      "metadata": {
        "id": "guBoERAXf7gl",
        "colab_type": "text"
      },
      "source": [
        "Cài đặt Tensorflow"
      ]
    },
    {
      "cell_type": "code",
      "metadata": {
        "id": "86664PXaTPY4",
        "colab_type": "code",
        "colab": {}
      },
      "source": [
        "!pip install tensorflow"
      ],
      "execution_count": 0,
      "outputs": []
    },
    {
      "cell_type": "markdown",
      "metadata": {
        "id": "oAsn7sdBgA7V",
        "colab_type": "text"
      },
      "source": [
        "Xem thông tin GPU"
      ]
    },
    {
      "cell_type": "code",
      "metadata": {
        "id": "KNahkYevS5vY",
        "colab_type": "code",
        "colab": {}
      },
      "source": [
        "import tensorflow as tf\n",
        "device_name = tf.test.gpu_device_name()\n",
        "if device_name != '/device:GPU:0':\n",
        "  raise SystemError('GPU device not found')\n",
        "print('Found GPU at: {}'.format(device_name))\n"
      ],
      "execution_count": 0,
      "outputs": []
    },
    {
      "cell_type": "code",
      "metadata": {
        "id": "RwD-g7eqS7Jf",
        "colab_type": "code",
        "colab": {}
      },
      "source": [
        "from tensorflow.python.client import device_lib\n",
        "device_lib.list_local_devices()"
      ],
      "execution_count": 0,
      "outputs": []
    },
    {
      "cell_type": "markdown",
      "metadata": {
        "id": "WyzWnNzZgEZ9",
        "colab_type": "text"
      },
      "source": [
        "Xem thông tin bộ nhớ"
      ]
    },
    {
      "cell_type": "code",
      "metadata": {
        "id": "WBGXB5H2T76F",
        "colab_type": "code",
        "colab": {}
      },
      "source": [
        "!cat /proc/meminfo"
      ],
      "execution_count": 0,
      "outputs": []
    }
  ]
}