import numpy as np
import cv2
import glob  
from sklearn.model_selection import train_test_split
from skimage.feature import hog 

# Tao khong gian luu anh

X = []
Y = []
X_train = []
X_test = []
Y_train = []
Y_test = []

# Doc anh, chia du lieu TRAIN va TEST

for i in range(10):
    for j in glob.glob('ARDIS/ARDIS_DATASET_II/' + str(i) + '/*'):
        img = cv2.imread(j) 
        img = cv2.cvtColor(img, cv2.COLOR_BGR2GRAY)    
        img = cv2.resize(img,(28, 28)) 
        X.append(img)
        Y.append(i)
    X_train_temp, X_test_temp, Y_train_temp, Y_test_temp = train_test_split(X, Y, train_size = 66/76, random_state = 0)
    X_train = X_train + X_train_temp
    X_test = X_test + X_test_temp
    Y_train = Y_train + Y_train_temp
    Y_test = Y_test + Y_test_temp
    del X[:]
    del Y[:]
    
# Ham HOG
    
def HOG(X):
    X_temp = []
    for i in range(len(X)):
        img = hog(X[i], orientations = 9, pixels_per_cell = (8, 8), cells_per_block = (2,2))
        X_temp.append(img)
    return X_temp   

# Bien doi anh (HOG) 

X_train = HOG(X_train)
X_test = HOG(X_test)

# 

X_train = np.array(X_train)
Y_train = np.array(Y_train)
X_test = np.array(X_test)
Y_test = np.array(Y_test)

from sklearn.preprocessing import StandardScaler
SC = StandardScaler()
X_train = SC.fit_transform(X_train)
X_test = SC.transform(X_test)

from sklearn.decomposition import PCA
pca = PCA(n_components = 0.95)
X_train = pca.fit_transform(X_train)
X_test = pca.transform(X_test)

# from sklearn.neighbors import KNeighborsClassifier
# model = KNeighborsClassifier()
# model.fit(X_train, Y_train)

# from sklearn.linear_model import LogisticRegression
# model = LogisticRegression()
# model.fit(X_train, Y_train)

from sklearn.svm import SVC
model = SVC(random_state = 0)
model.fit(X_train, Y_train)

from sklearn.metrics import confusion_matrix, accuracy_score
cm = confusion_matrix(Y_test, model.predict(X_test))
print("Confusion Matrix TEST: ")
import seaborn as sb
sb.heatmap(cm, annot = True, fmt = 'g', cmap = 'Blues', annot_kws = {"size": 10})
import matplotlib.pyplot as plt
plt.show()
print("Accuracy Score TEST: ", accuracy_score(Y_test, model.predict(X_test)))





    
